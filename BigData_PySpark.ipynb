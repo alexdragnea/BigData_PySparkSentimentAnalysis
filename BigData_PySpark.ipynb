{
 "cells": [
  {
   "cell_type": "markdown",
   "id": "6efd439c-3268-4e0b-bed4-36656ba18fec",
   "metadata": {},
   "source": [
    "## Imports"
   ]
  },
  {
   "cell_type": "code",
   "execution_count": 21,
   "id": "3791343f-d4ae-44cd-a782-adcc33b15009",
   "metadata": {},
   "outputs": [],
   "source": [
    "import findspark\n",
    "findspark.init()\n",
    "import pyspark\n",
    "from pyspark.sql import SparkSession\n",
    "from pyspark.sql.functions import udf, when\n",
    "from pyspark.sql.types import StructType, StructField, IntegerType, StringType\n",
    "from pyspark.ml.feature import Tokenizer, StringIndexer, CountVectorizer, NGram, VectorAssembler, ChiSqSelector, StopWordsRemover\n",
    "from pyspark.ml import Pipeline\n",
    "from pyspark.ml.tuning import ParamGridBuilder, TrainValidationSplit\n",
    "from pyspark.ml.feature import IDF, HashingTF\n",
    "from pyspark.ml.classification import LogisticRegression, NaiveBayes, LinearSVC\n",
    "from pyspark.ml.evaluation import MulticlassClassificationEvaluator, BinaryClassificationEvaluator\n",
    "from pyspark.ml import PipelineModel\n",
    "from datetime import datetime\n",
    "from wordcloud import WordCloud\n",
    "import matplotlib.pyplot as plt\n",
    "from sklearn.metrics import ConfusionMatrixDisplay\n",
    "import re\n",
    "from bs4 import BeautifulSoup\n",
    "from nltk.tokenize import WordPunctTokenizer\n",
    "import pandas as pd\n",
    "import warnings\n",
    "import praw\n",
    "import os\n",
    "\n",
    "warnings.simplefilter('ignore')"
   ]
  },
  {
   "cell_type": "markdown",
   "id": "b80bf361-40d8-480d-8afb-f890b3df2053",
   "metadata": {},
   "source": [
    "## Spark Session"
   ]
  },
  {
   "cell_type": "code",
   "execution_count": 22,
   "id": "bfd7f01d-44de-4d8c-a3e6-f418e1e6e9a6",
   "metadata": {},
   "outputs": [],
   "source": [
    "# Initialize a Spark session\n",
    "spark = SparkSession.builder\\\n",
    "            .master(\"local[16]\")\\\n",
    "            .appName(\"LR_Twitter\")\\\n",
    "            .config(\"spark.driver.memory\", \"6g\")\\\n",
    "            .config(\"spark.executor.memory\", \"6g\")\\\n",
    "            .config(\"spark.driver.maxResultSize\", \"3g\")\\\n",
    "            .getOrCreate()\n",
    "spark.sparkContext.setLogLevel(\"OFF\")\n"
   ]
  },
  {
   "cell_type": "markdown",
   "id": "a39c21b0-cd0a-49e0-bbca-94c2d23bb22b",
   "metadata": {},
   "source": [
    "## Cleaning Dataset"
   ]
  },
  {
   "cell_type": "code",
   "execution_count": 23,
   "id": "bff5b37b-63b3-46e2-8bde-06ee20779edf",
   "metadata": {},
   "outputs": [],
   "source": [
    "def clean_text(text):\n",
    "    negations_dic = {\n",
    "        \"isn't\": \"is not\", \"aren't\": \"are not\", \"wasn't\": \"was not\", \"weren't\": \"were not\",\n",
    "        \"haven't\": \"have not\", \"hasn't\": \"has not\", \"hadn't\": \"had not\", \"won't\": \"will not\",\n",
    "        \"wouldn't\": \"would not\", \"don't\": \"do not\", \"doesn't\": \"does not\", \"didn't\": \"did not\",\n",
    "        \"can't\": \"cannot\", \"couldn't\": \"could not\", \"shouldn't\": \"should not\", \"mightn't\": \"might not\",\n",
    "        \"mustn't\": \"must not\"\n",
    "    }\n",
    "    \n",
    "    combined_pat = r'|'.join((r'@[A-Za-z0-9_]+', r'https?://[^ ]+', r'www.[^ ]+'))\n",
    "    www_pat = r'www.[^ ]+'\n",
    "    neg_pattern = re.compile(r'\\b(' + '|'.join(negations_dic.keys()) + r')\\b')\n",
    "    tok = WordPunctTokenizer()\n",
    "\n",
    "    soup = BeautifulSoup(text, 'lxml')\n",
    "    souped = soup.get_text()\n",
    "    try:\n",
    "        bom_removed = souped.decode(\"utf-8-sig\").replace(u\"\\ufffd\", \"?\")\n",
    "    except:\n",
    "        bom_removed = souped\n",
    "    stripped = re.sub(combined_pat, '', bom_removed)\n",
    "    stripped = re.sub(www_pat, '', stripped)\n",
    "    lower_case = stripped.lower()\n",
    "    neg_handled = neg_pattern.sub(lambda x: negations_dic[x.group()], lower_case)\n",
    "    letters_only = re.sub(\"[^a-zA-Z]\", \" \", neg_handled)\n",
    "    words = [x for x in tok.tokenize(letters_only) if len(x) > 1]\n",
    "    return \" \".join(words).strip()\n"
   ]
  },
  {
   "cell_type": "markdown",
   "id": "dfb6769c-cdad-4bb9-93be-6c47c759ab04",
   "metadata": {},
   "source": [
    "## Cleaning Dataset Process"
   ]
  },
  {
   "cell_type": "code",
   "execution_count": null,
   "id": "263d872e-06de-454f-b24c-b609d80e57a8",
   "metadata": {},
   "outputs": [],
   "source": [
    "schema = StructType([\n",
    "    StructField(\"target\", IntegerType(), False),\n",
    "    StructField(\"id\", IntegerType(), False),\n",
    "    StructField(\"date\", StringType(), True),\n",
    "    StructField(\"query\", StringType(), True),\n",
    "    StructField(\"user\", StringType(), True),\n",
    "    StructField(\"text\", StringType(), True)\n",
    "])\n",
    "\n",
    "# Load data with the defined schema\n",
    "df = spark.read.csv(\"training.1600000.processed.noemoticon.csv\", header=None, schema=schema, encoding='ISO-8859-1')\n",
    "\n",
    "print(\"========================Before cleaning========================\")\n",
    "\n",
    "df.show()\n",
    "\n",
    "# Apply the cleaning function to the \"text\" column\n",
    "clean_text_udf = udf(clean_text, StringType())\n",
    "df = df.withColumn(\"text\",clean_text_udf(df[\"text\"]))\n",
    "\n",
    "# Map sentiment (0 to 0 and 4 to 1)\n",
    "df = df.withColumn(\"target\", when(df[\"target\"] == 0, 0).otherwise(1))\n",
    "\n",
    "# Select the relevant columns (index, sentiment, and cleaned text)\n",
    "df = df.select(\"text\", \"target\")\n",
    "\n",
    "print(\"========================After cleaning========================\")\n",
    "\n",
    "df.show()\n",
    "\n",
    "# Convert the Spark DataFrame to a pandas DataFrame\n",
    "df_pandas = df.toPandas()\n",
    "\n",
    "# Save the pandas DataFrame to a CSV file\n",
    "df_pandas.to_csv(\"clean_tweet.csv\", index=True, encoding='utf-8')\n",
    "\n",
    "st = datetime.utcnow()\n",
    "print('Cleaning time:', datetime.utcnow() - st)"
   ]
  },
  {
   "cell_type": "markdown",
   "id": "41da3b70-5a0f-456f-bf8d-0f60a0526e2b",
   "metadata": {},
   "source": [
    "## Load Cleaned CSV"
   ]
  },
  {
   "cell_type": "code",
   "execution_count": 4,
   "id": "9659109c-deca-4595-a79c-68a5ce98fd2b",
   "metadata": {},
   "outputs": [
    {
     "name": "stderr",
     "output_type": "stream",
     "text": [
      "                                                                                \r"
     ]
    },
    {
     "name": "stdout",
     "output_type": "stream",
     "text": [
      "Number of rows in the DataFrame: 1596041\n"
     ]
    }
   ],
   "source": [
    "\n",
    "path = \"clean_tweet.csv\"\n",
    "schema = StructType([\n",
    "    StructField(\"_\", StringType(), True),  # Skip the first column\n",
    "    StructField(\"text\", StringType(), True),\n",
    "    StructField(\"target\", IntegerType(), True)\n",
    "])\n",
    "df = spark.read.csv(path, inferSchema=True, header=False, schema=schema).na.drop()\n",
    "num_columns = len(df.columns)\n",
    "\n",
    "print(f\"Number of rows in the DataFrame: {df.count()}\")\n",
    "\n",
    "df = df.select(\"text\", \"target\")\n"
   ]
  },
  {
   "cell_type": "markdown",
   "id": "a98d47d3-b801-47ee-af75-c1b3960a0ae0",
   "metadata": {},
   "source": [
    "## Training Logistic Regression"
   ]
  },
  {
   "cell_type": "code",
   "execution_count": 5,
   "id": "49711233-c4ce-42a1-8043-74cc597f589c",
   "metadata": {},
   "outputs": [
    {
     "name": "stderr",
     "output_type": "stream",
     "text": [
      "                                                                                \r"
     ]
    },
    {
     "name": "stdout",
     "output_type": "stream",
     "text": [
      "Training time: 0:01:34.295216\n"
     ]
    },
    {
     "name": "stderr",
     "output_type": "stream",
     "text": [
      "                                                                                \r"
     ]
    },
    {
     "name": "stdout",
     "output_type": "stream",
     "text": [
      "ROC AUC: 0.8864697121820937\n",
      "Accuracy: 0.8119574703690844\n",
      "Precision: 0.8129027422126525\n",
      "Recall: 0.8119574703690844\n"
     ]
    }
   ],
   "source": [
    "\n",
    "(train_set, test_set) = df.randomSplit([0.80, 0.20], seed=2000)\n",
    "\n",
    "# Define a function to buildthe pipeline with trigrams\n",
    "def build_trigrams(inputCol=[\"text\", \"target\"], n=3):\n",
    "    tokenizer = [Tokenizer(inputCol=\"text\", outputCol=\"words\")]\n",
    "\n",
    "    ngrams = [\n",
    "        NGram(n=i, inputCol=\"words\", outputCol=\"{0}_grams\".format(i))\n",
    "        for i in range(1, n + 1)\n",
    "    ]\n",
    "\n",
    "    cv = [\n",
    "        CountVectorizer(vocabSize=2**14, inputCol=\"{0}_grams\".format(i),\n",
    "            outputCol=\"{0}_tf\".format(i))\n",
    "        for i in range(1, n + 1)\n",
    "    ]\n",
    "\n",
    "    idf = [IDF(inputCol=\"{0}_tf\".format(i), outputCol=\"{0}_tfidf\".format(i), minDocFreq=5) for i in range(1, n + 1)]\n",
    "\n",
    "    stopword_remover = [StopWordsRemover(inputCol=\"words\", outputCol=\"filtered\")]\n",
    "\n",
    "    assembler = [VectorAssembler(\n",
    "        inputCols=[\"{0}_tfidf\".format(i) for i in range(1, n + 1)],\n",
    "        outputCol=\"rawFeatures\"\n",
    "    )]\n",
    "\n",
    "    label_stringIdx = [StringIndexer(inputCol=\"target\", outputCol=\"label\")]\n",
    "\n",
    "    selector = [ChiSqSelector(numTopFeatures=2**14, featuresCol='rawFeatures', outputCol=\"features\")]\n",
    "\n",
    "    lr = [LogisticRegression(regParam=0.005)]\n",
    "\n",
    "    return Pipeline(stages=tokenizer + stopword_remover + ngrams + cv + idf + assembler + label_stringIdx + selector + lr)\n",
    "\n",
    "\n",
    "st = datetime.utcnow()\n",
    "\n",
    "pipelineFit = build_trigrams().fit(train_set)\n",
    "print('Training time:', datetime.utcnow() - st)\n",
    "\n",
    "current_directory = os.getcwd()\n",
    "\n",
    "model_path = os.path.join(current_directory, \"lr_model\")  \n",
    "\n",
    "pipelineFit.write().overwrite().save(model_path)\n",
    "\n",
    "evaluator = MulticlassClassificationEvaluator(labelCol=\"label\", predictionCol=\"prediction\", metricName=\"accuracy\")\n",
    "predictions = pipelineFit.transform(test_set)\n",
    "accuracy = evaluator.evaluate(predictions, {evaluator.metricName: \"accuracy\"})\n",
    "precision = evaluator.evaluate(predictions, {evaluator.metricName: \"weightedPrecision\"})\n",
    "recall = evaluator.evaluate(predictions, {evaluator.metricName: \"weightedRecall\"})\n",
    "\n",
    "evaluator = BinaryClassificationEvaluator(rawPredictionCol=\"rawPrediction\", labelCol=\"label\")\n",
    "roc_auc = evaluator.evaluate(predictions, {evaluator.metricName: \"areaUnderROC\"})\n",
    "\n",
    "print(\"ROC AUC:\", roc_auc)\n",
    "print(\"Accuracy:\", accuracy)\n",
    "print(\"Precision:\", precision)\n",
    "print(\"Recall:\", recall)"
   ]
  },
  {
   "cell_type": "markdown",
   "id": "f5ebd68c-2a44-4468-84d9-840d32afabfa",
   "metadata": {},
   "source": [
    "## Training Naive Bayes"
   ]
  },
  {
   "cell_type": "code",
   "execution_count": 6,
   "id": "fc4016d7-0df4-4414-8a6a-cfb6dc018f7a",
   "metadata": {},
   "outputs": [
    {
     "name": "stderr",
     "output_type": "stream",
     "text": [
      "                                                                                \r"
     ]
    },
    {
     "name": "stdout",
     "output_type": "stream",
     "text": [
      "Training time: 0:01:02.198676\n"
     ]
    },
    {
     "name": "stderr",
     "output_type": "stream",
     "text": [
      "                                                                                \r"
     ]
    },
    {
     "name": "stdout",
     "output_type": "stream",
     "text": [
      "ROC AUC: 0.5976375669166558\n",
      "Accuracy: 0.7885467791530986\n",
      "Precision: 0.7890105359690882\n",
      "Recall: 0.7885467791530986\n"
     ]
    }
   ],
   "source": [
    "\n",
    "(train_set, test_set) = df.randomSplit([0.80, 0.20], seed=2000)\n",
    "\n",
    "def build_trigrams(inputCol=[\"text\", \"target\"], n=3):\n",
    "    tokenizer = [Tokenizer(inputCol=\"text\", outputCol=\"words\")]\n",
    "\n",
    "    ngrams = [\n",
    "        NGram(n=i, inputCol=\"words\", outputCol=\"{0}_grams\".format(i))\n",
    "        for i in range(1, n + 1)\n",
    "    ]\n",
    "\n",
    "    cv = [\n",
    "        CountVectorizer(vocabSize=2**14, inputCol=\"{0}_grams\".format(i),\n",
    "            outputCol=\"{0}_tf\".format(i))\n",
    "        for i in range(1, n + 1)\n",
    "    ]\n",
    "\n",
    "    idf = [IDF(inputCol=\"{0}_tf\".format(i), outputCol=\"{0}_tfidf\".format(i), minDocFreq=5) for i in range(1, n + 1)]\n",
    "\n",
    "    stopword_remover = [StopWordsRemover(inputCol=\"words\", outputCol=\"filtered\")]\n",
    "\n",
    "    assembler = [VectorAssembler(\n",
    "        inputCols=[\"{0}_tfidf\".format(i) for i in range(1, n + 1)],\n",
    "        outputCol=\"rawFeatures\"\n",
    "    )]\n",
    "\n",
    "    label_stringIdx = [StringIndexer(inputCol=\"target\", outputCol=\"label\")]\n",
    "\n",
    "    selector = [ChiSqSelector(numTopFeatures=2**14, featuresCol='rawFeatures', outputCol=\"features\")]\n",
    "\n",
    "    nb = [NaiveBayes(modelType=\"multinomial\")]\n",
    "\n",
    "    return Pipeline(stages=tokenizer + stopword_remover + ngrams + cv + idf + assembler + label_stringIdx + selector + nb)\n",
    "\n",
    "\n",
    "st = datetime.utcnow()\n",
    "\n",
    "pipelineFit = build_trigrams().fit(train_set)\n",
    "print('Training time:', datetime.utcnow() - st)\n",
    "\n",
    "current_directory = os.getcwd()\n",
    "\n",
    "model_path = os.path.join(current_directory, \"nb_model\") \n",
    "pipelineFit.write().overwrite().save(model_path)\n",
    "\n",
    "\n",
    "evaluator = MulticlassClassificationEvaluator(labelCol=\"label\", predictionCol=\"prediction\", metricName=\"accuracy\")\n",
    "predictions = pipelineFit.transform(test_set)\n",
    "accuracy = evaluator.evaluate(predictions, {evaluator.metricName: \"accuracy\"})\n",
    "precision = evaluator.evaluate(predictions, {evaluator.metricName: \"weightedPrecision\"})\n",
    "recall = evaluator.evaluate(predictions, {evaluator.metricName: \"weightedRecall\"})\n",
    "\n",
    "evaluator = BinaryClassificationEvaluator(rawPredictionCol=\"rawPrediction\", labelCol=\"label\")\n",
    "roc_auc = evaluator.evaluate(predictions, {evaluator.metricName: \"areaUnderROC\"})\n",
    "\n",
    "print(\"ROC AUC:\", roc_auc)\n",
    "print(\"Accuracy:\", accuracy)\n",
    "print(\"Precision:\", precision)\n",
    "print(\"Recall:\", recall)"
   ]
  },
  {
   "cell_type": "markdown",
   "id": "0a6bf42a-14dd-446a-baa9-b7e17453bcf7",
   "metadata": {},
   "source": [
    "## Training Support Vector Machine"
   ]
  },
  {
   "cell_type": "code",
   "execution_count": 7,
   "id": "85b52260-ad36-4ae2-8372-1578fdb14ee3",
   "metadata": {},
   "outputs": [
    {
     "name": "stderr",
     "output_type": "stream",
     "text": [
      "                                                                                \r"
     ]
    },
    {
     "name": "stdout",
     "output_type": "stream",
     "text": [
      "Training time: 0:02:19.758295\n"
     ]
    },
    {
     "name": "stderr",
     "output_type": "stream",
     "text": [
      "                                                                                \r"
     ]
    },
    {
     "name": "stdout",
     "output_type": "stream",
     "text": [
      "ROC AUC: 0.8846005144239888\n",
      "Accuracy: 0.8086604542625038\n",
      "Precision: 0.8100159205112487\n",
      "Recall: 0.8086604542625038\n"
     ]
    }
   ],
   "source": [
    "(train_set, test_set) = df.randomSplit([0.80, 0.20], seed=2000)\n",
    "\n",
    "def build_trigrams(inputCol=[\"text\",\"target\"], n=3):\n",
    "    \n",
    "    tokenizer = [Tokenizer(inputCol=\"text\", outputCol=\"words\")]\n",
    "    \n",
    "    ngrams = [\n",
    "        NGram(n=i, inputCol=\"words\", outputCol=\"{0}_grams\".format(i))\n",
    "        for i in range(1, n + 1)\n",
    "    ]\n",
    "\n",
    "    cv = [\n",
    "        CountVectorizer(vocabSize=2**14,inputCol=\"{0}_grams\".format(i),\n",
    "            outputCol=\"{0}_tf\".format(i))\n",
    "        for i in range(1, n + 1)\n",
    "    ]\n",
    "    \n",
    "    idf = [IDF(inputCol=\"{0}_tf\".format(i), outputCol=\"{0}_tfidf\".format(i), minDocFreq=5) for i in range(1, n + 1)]\n",
    "\n",
    "    assembler = [VectorAssembler(\n",
    "        inputCols=[\"{0}_tfidf\".format(i) for i in range(1, n + 1)],\n",
    "        outputCol=\"rawFeatures\"\n",
    "    )]\n",
    "    \n",
    "    label_stringIdx = [StringIndexer(inputCol = \"target\", outputCol = \"label\")]\n",
    "    \n",
    "    selector = [ChiSqSelector(numTopFeatures=2**14,featuresCol='rawFeatures', outputCol=\"features\")]\n",
    "    \n",
    "    svm = [LinearSVC()]\n",
    "    \n",
    "    return Pipeline(stages=tokenizer + ngrams + cv + idf + assembler + label_stringIdx + selector + svm)\n",
    "\n",
    "st = datetime.utcnow()\n",
    "\n",
    "pipelineFit = build_trigrams().fit(train_set)\n",
    "\n",
    "print('Training time:', datetime.utcnow() - st)\n",
    "\n",
    "current_directory = os.getcwd()\n",
    "\n",
    "model_path = os.path.join(current_directory, \"svm_model\") \n",
    "pipelineFit.write().overwrite().save(model_path)\n",
    "\n",
    "evaluator = MulticlassClassificationEvaluator(labelCol=\"label\", predictionCol=\"prediction\", metricName=\"accuracy\")\n",
    "predictions = pipelineFit.transform(test_set)\n",
    "accuracy = evaluator.evaluate(predictions, {evaluator.metricName: \"accuracy\"})\n",
    "precision = evaluator.evaluate(predictions, {evaluator.metricName: \"weightedPrecision\"})\n",
    "recall = evaluator.evaluate(predictions, {evaluator.metricName: \"weightedRecall\"})\n",
    "\n",
    "evaluator = BinaryClassificationEvaluator(rawPredictionCol=\"rawPrediction\", labelCol=\"label\")\n",
    "roc_auc = evaluator.evaluate(predictions, {evaluator.metricName: \"areaUnderROC\"})\n",
    "\n",
    "print(\"ROC AUC:\", roc_auc)\n",
    "print(\"Accuracy:\", accuracy)\n",
    "print(\"Precision:\", precision)\n",
    "print(\"Recall:\", recall)"
   ]
  },
  {
   "cell_type": "markdown",
   "id": "a87ca1e7-c795-484c-b606-658651d2bb80",
   "metadata": {},
   "source": [
    "## Real time prediction on Reddit"
   ]
  },
  {
   "cell_type": "code",
   "execution_count": 24,
   "id": "9f5c68eb-2d93-4f24-b0ea-2dfc17304468",
   "metadata": {},
   "outputs": [
    {
     "data": {
      "image/png": "[encoded data removed]",
      "text/plain": [
       "<Figure size 640x480 with 1 Axes>"
      ]
     },
     "metadata": {},
     "output_type": "display_data"
    },
    {
     "data": {
      "image/png": "[encoded data removed]",
      "text/plain": [
       "<Figure size 640x480 with 1 Axes>"
      ]
     },
     "metadata": {},
     "output_type": "display_data"
    },
    {
     "data": {
      "image/png": "[encoded data removed]",
      "text/plain": [
       "<Figure size 640x480 with 1 Axes>"
      ]
     },
     "metadata": {},
     "output_type": "display_data"
    },
    {
     "name": "stdout",
     "output_type": "stream",
     "text": [
      "Sentiment analysis completed for Reddit data\n"
     ]
    }
   ],
   "source": [
    "reddit = praw.Reddit(\n",
    "    client_id='mJMczWy81dMME1r9v9OBiQ',\n",
    "    client_secret='tdsaBJ8OiNORXPvbw1jwFkNCaQY3GQ',\n",
    "    user_agent='redit api2',\n",
    "    username='Public-Quantity3513',\n",
    "    password='siCsur-2qujcy-tehmim'\n",
    ")\n",
    "\n",
    "subreddit_name = 'DataScience'\n",
    "\n",
    "clean_text_udf = udf(clean_text, StringType())\n",
    "nb_model_path = \"nb_model\"\n",
    "lr_model_path = \"lr_model\"\n",
    "svm_model_path = \"svm_model\"\n",
    "\n",
    "nb_pipeline_model = PipelineModel.load(nb_model_path)\n",
    "lr_pipeline_model = PipelineModel.load(lr_model_path)\n",
    "svm_pipeline_model = PipelineModel.load(svm_model_path)\n",
    "\n",
    "def process_post(post):\n",
    "    post_comment_bodies = []\n",
    "    for comment in post.comments.list():\n",
    "        if isinstance(comment, praw.models.Comment) and not comment.body == '[deleted]':\n",
    "            cleaned_text = clean_text(comment.body)\n",
    "            post_comment_bodies.append(cleaned_text)\n",
    "    return post_comment_bodies\n",
    "\n",
    "def predict_sentiment(comment_bodies, model, model_name):\n",
    "    schema = StructType([StructField(\"text\", StringType(), True)])\n",
    "    df = spark.createDataFrame([(body,) for body in comment_bodies], schema=schema)\n",
    "    predictions = model.transform(df)\n",
    "\n",
    "    predicted_labels = predictions.select('prediction').collect()\n",
    "\n",
    "    predicted_positive_count = sum(1 for label in predicted_labels if label[0] == 1)\n",
    "    predicted_negative_count = sum(1 for label in predicted_labels if label[0] == 0)\n",
    "\n",
    "    positive_legend_label = f'Positive ({model_name})'\n",
    "    negative_legend_label = f'Negative ({model_name})'\n",
    "\n",
    "    predicted_sentiments = [positive_legend_label, negative_legend_label]\n",
    "\n",
    "    predicted_counts = [predicted_positive_count, predicted_negative_count]\n",
    "\n",
    "    plt.bar(predicted_sentiments, predicted_counts, color=['green', 'red'], label=model_name.lower())\n",
    "\n",
    "    # Display exact counts on each bar\n",
    "    for i, count in enumerate(predicted_counts):\n",
    "        plt.text(i, count, str(count), ha='center', va='bottom')\n",
    "\n",
    "def plot_sentiment_distribution():\n",
    "    plt.xlabel('Sentiment')\n",
    "    plt.ylabel('Count')\n",
    "    plt.title('Sentiment Prediction Distribution On Reddit Live Data')\n",
    "    plt.legend(loc='upper right') \n",
    "    plt.show()\n",
    "    plt.close()\n",
    "\n",
    "try:\n",
    "    subreddit_name = 'DataScience'\n",
    "    hot_posts = reddit.subreddit(subreddit_name).hot(limit=500)\n",
    "    all_comment_bodies = []\n",
    "\n",
    "    for post in hot_posts:\n",
    "        comment_bodies = process_post(post)\n",
    "        all_comment_bodies.extend(comment_bodies)\n",
    "\n",
    "    # Predict sentiment for Logistic Regression model\n",
    "    predict_sentiment(all_comment_bodies, lr_pipeline_model, 'LR')\n",
    "\n",
    "    # Plot sentiment distribution for Logistic Regression model\n",
    "    plot_sentiment_distribution()\n",
    "    \n",
    "    # Predict sentiment for Naive Bayes model\n",
    "    predict_sentiment(all_comment_bodies, nb_pipeline_model, 'NB')\n",
    "\n",
    "    # Plot sentiment distribution for Naive Bayes model\n",
    "    plot_sentiment_distribution()\n",
    "\n",
    "      # Predict sentiment for Naive Bayes model\n",
    "    predict_sentiment(all_comment_bodies, svm_pipeline_model, 'SVM')\n",
    "\n",
    "    # Plot sentiment distribution for Naive Bayes model\n",
    "    plot_sentiment_distribution()\n",
    "\n",
    "\n",
    "    print(\"Sentiment analysis completed for Reddit data\")\n",
    "\n",
    "except praw.exceptions.APIException as e:\n",
    "    print(f\"Reddit API Exception: {e}\")\n",
    "\n",
    "except Exception as e:\n",
    "    print(f\"An unexpected error occurred: {e}\")\n",
    "\n",
    "finally:\n",
    "    spark.stop()"
   ]
  },
  {
   "cell_type": "code",
   "execution_count": null,
   "id": "bde0ca0e-9b98-4686-a234-a33d0343e991",
   "metadata": {},
   "outputs": [],
   "source": []
  }
 ],
 "metadata": {
  "kernelspec": {
   "display_name": "Python 3 (ipykernel)",
   "language": "python",
   "name": "python3"
  },
  "language_info": {
   "codemirror_mode": {
    "name": "ipython",
    "version": 3
   },
   "file_extension": ".py",
   "mimetype": "text/x-python",
   "name": "python",
   "nbconvert_exporter": "python",
   "pygments_lexer": "ipython3",
   "version": "3.9.4"
  }
 },
 "nbformat": 4,
 "nbformat_minor": 5
}
