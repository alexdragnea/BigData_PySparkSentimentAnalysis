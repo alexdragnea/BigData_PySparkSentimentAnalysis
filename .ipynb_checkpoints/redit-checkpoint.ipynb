{
 "cells": [
  {
   "cell_type": "code",
   "execution_count": null,
   "id": "97495093-0720-477f-b7eb-909452048ea8",
   "metadata": {},
   "outputs": [],
   "source": [
    "import praw\n",
    "import csv\n",
    "\n",
    "def save_comments_to_csv(subreddit_name):\n",
    "    reddit = praw.Reddit(\n",
    "        client_id='mJMczWy81dMME1r9v9OBiQ',\n",
    "        client_secret='tdsaBJ8OiNORXPvbw1jwFkNCaQY3GQ',\n",
    "        user_agent='redit api'\n",
    "    )\n",
    "\n",
    "    subreddit = reddit.subreddit(subreddit_name)\n",
    "    hot_posts = subreddit.hot(limit=10)\n",
    "\n",
    "    # List to store comment data\n",
    "    comment_data = []\n",
    "\n",
    "    for post in hot_posts:\n",
    "        # Iterate through comments in the post\n",
    "        for comment in post.comments.list():\n",
    "            if isinstance(comment, praw.models.Comment):\n",
    "                comment_data.append({\n",
    "                    \"Post ID\": post.id,\n",
    "                    \"Title\": post.title,\n",
    "                    \"Author\": post.author.name if post.author else None,\n",
    "                    \"Subreddit\": subreddit_name,\n",
    "                    \"Comment ID\": comment.id,\n",
    "                    \"Comment Author\": comment.author.name if comment.author else None,\n",
    "                    \"Comment Body\": comment.body,\n",
    "                    \"Upvotes\": comment.ups,\n",
    "                    \"Downvotes\": comment.downs,\n",
    "                    \"Timestamp\": comment.created_utc,\n",
    "                    \"Permalink\": comment.permalink\n",
    "                })\n",
    "\n",
    "    # Save comment data to a CSV file\n",
    "    csv_file_path = 'comments.csv'\n",
    "    with open(csv_file_path, 'w', newline='', encoding='utf-8') as csv_file:\n",
    "        csv_writer = csv.DictWriter(csv_file, fieldnames=comment_data[0].keys())\n",
    "        csv_writer.writeheader()\n",
    "        csv_writer.writerows(comment_data)\n",
    "\n",
    "    print(f\"Comments saved to {csv_file_path}\")\n",
    "\n",
    "if __name__ == \"__main__\":\n",
    "    # Specify the subreddit you want to save comments from\n",
    "    subreddit_name = 'Data Science'\n",
    "    save_comments_to_csv(subreddit_name)\n"
   ]
  },
  {
   "cell_type": "code",
   "execution_count": null,
   "id": "2b66028b-b52f-40a3-8380-9baa5269c983",
   "metadata": {},
   "outputs": [],
   "source": []
  }
 ],
 "metadata": {
  "kernelspec": {
   "display_name": "Python 3 (ipykernel)",
   "language": "python",
   "name": "python3"
  },
  "language_info": {
   "codemirror_mode": {
    "name": "ipython",
    "version": 3
   },
   "file_extension": ".py",
   "mimetype": "text/x-python",
   "name": "python",
   "nbconvert_exporter": "python",
   "pygments_lexer": "ipython3",
   "version": "3.9.4"
  }
 },
 "nbformat": 4,
 "nbformat_minor": 5
}
