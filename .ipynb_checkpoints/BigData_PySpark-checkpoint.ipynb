{
 "cells": [
  {
   "cell_type": "markdown",
   "id": "6efd439c-3268-4e0b-bed4-36656ba18fec",
   "metadata": {},
   "source": [
    "## Imports"
   ]
  },
  {
   "cell_type": "code",
   "execution_count": 9,
   "id": "3791343f-d4ae-44cd-a782-adcc33b15009",
   "metadata": {},
   "outputs": [],
   "source": [
    "import findspark\n",
    "findspark.init()\n",
    "import pyspark\n",
    "from pyspark.sql import SparkSession\n",
    "from pyspark.sql.functions import udf, when\n",
    "from pyspark.sql.types import StructType, StructField, IntegerType, StringType\n",
    "from pyspark.ml.feature import Tokenizer, StringIndexer, CountVectorizer, NGram, VectorAssembler, ChiSqSelector, StopWordsRemover\n",
    "from pyspark.ml import Pipeline\n",
    "from pyspark.ml.tuning import ParamGridBuilder, TrainValidationSplit\n",
    "from pyspark.ml.feature import IDF, HashingTF\n",
    "from pyspark.ml.classification import LogisticRegression, NaiveBayes\n",
    "from pyspark.ml.evaluation import MulticlassClassificationEvaluator, BinaryClassificationEvaluator\n",
    "from pyspark.ml import PipelineModel\n",
    "from datetime import datetime\n",
    "from wordcloud import WordCloud\n",
    "import matplotlib.pyplot as plt\n",
    "from sklearn.metrics import ConfusionMatrixDisplay\n",
    "import re\n",
    "from bs4 import BeautifulSoup\n",
    "from nltk.tokenize import WordPunctTokenizer\n",
    "import pandas as pd\n",
    "import warnings\n",
    "import praw\n",
    "import os\n",
    "\n",
    "warnings.simplefilter('ignore')"
   ]
  },
  {
   "cell_type": "markdown",
   "id": "b80bf361-40d8-480d-8afb-f890b3df2053",
   "metadata": {},
   "source": [
    "## Spark Session"
   ]
  },
  {
   "cell_type": "code",
   "execution_count": 10,
   "id": "bfd7f01d-44de-4d8c-a3e6-f418e1e6e9a6",
   "metadata": {},
   "outputs": [],
   "source": [
    "# Initialize a Spark session\n",
    "spark = SparkSession.builder\\\n",
    "            .master(\"local[16]\")\\\n",
    "            .appName(\"LR_Twitter\")\\\n",
    "            .config(\"spark.driver.memory\", \"6g\")\\\n",
    "            .config(\"spark.executor.memory\", \"6g\")\\\n",
    "            .config(\"spark.driver.maxResultSize\", \"3g\")\\\n",
    "            .getOrCreate()\n",
    "spark.sparkContext.setLogLevel(\"OFF\")\n"
   ]
  },
  {
   "cell_type": "markdown",
   "id": "a39c21b0-cd0a-49e0-bbca-94c2d23bb22b",
   "metadata": {},
   "source": [
    "## Cleaning Dataset"
   ]
  },
  {
   "cell_type": "code",
   "execution_count": 3,
   "id": "bff5b37b-63b3-46e2-8bde-06ee20779edf",
   "metadata": {},
   "outputs": [],
   "source": [
    "def clean_text(text):\n",
    "    negations_dic = {\n",
    "        \"isn't\": \"is not\", \"aren't\": \"are not\", \"wasn't\": \"was not\", \"weren't\": \"were not\",\n",
    "        \"haven't\": \"have not\", \"hasn't\": \"has not\", \"hadn't\": \"had not\", \"won't\": \"will not\",\n",
    "        \"wouldn't\": \"would not\", \"don't\": \"do not\", \"doesn't\": \"does not\", \"didn't\": \"did not\",\n",
    "        \"can't\": \"cannot\", \"couldn't\": \"could not\", \"shouldn't\": \"should not\", \"mightn't\": \"might not\",\n",
    "        \"mustn't\": \"must not\"\n",
    "    }\n",
    "    \n",
    "    combined_pat = r'|'.join((r'@[A-Za-z0-9_]+', r'https?://[^ ]+', r'www.[^ ]+'))\n",
    "    www_pat = r'www.[^ ]+'\n",
    "    neg_pattern = re.compile(r'\\b(' + '|'.join(negations_dic.keys()) + r')\\b')\n",
    "    tok = WordPunctTokenizer()\n",
    "\n",
    "    soup = BeautifulSoup(text, 'lxml')\n",
    "    souped = soup.get_text()\n",
    "    try:\n",
    "        bom_removed = souped.decode(\"utf-8-sig\").replace(u\"\\ufffd\", \"?\")\n",
    "    except:\n",
    "        bom_removed = souped\n",
    "    stripped = re.sub(combined_pat, '', bom_removed)\n",
    "    stripped = re.sub(www_pat, '', stripped)\n",
    "    lower_case = stripped.lower()\n",
    "    neg_handled = neg_pattern.sub(lambda x: negations_dic[x.group()], lower_case)\n",
    "    letters_only = re.sub(\"[^a-zA-Z]\", \" \", neg_handled)\n",
    "    words = [x for x in tok.tokenize(letters_only) if len(x) > 1]\n",
    "    return \" \".join(words).strip()\n"
   ]
  },
  {
   "cell_type": "markdown",
   "id": "dfb6769c-cdad-4bb9-93be-6c47c759ab04",
   "metadata": {},
   "source": [
    "## Cleaning Dataset Process"
   ]
  },
  {
   "cell_type": "code",
   "execution_count": 4,
   "id": "263d872e-06de-454f-b24c-b609d80e57a8",
   "metadata": {},
   "outputs": [
    {
     "name": "stdout",
     "output_type": "stream",
     "text": [
      "========================Before cleaning========================\n",
      "+------+----------+--------------------+--------+---------------+--------------------+\n",
      "|target|        id|                date|   query|           user|                text|\n",
      "+------+----------+--------------------+--------+---------------+--------------------+\n",
      "|     0|1467810369|Mon Apr 06 22:19:...|NO_QUERY|_TheSpecialOne_|@switchfoot http:...|\n",
      "|     0|1467810672|Mon Apr 06 22:19:...|NO_QUERY|  scotthamilton|is upset that he ...|\n",
      "|     0|1467810917|Mon Apr 06 22:19:...|NO_QUERY|       mattycus|@Kenichan I dived...|\n",
      "|     0|1467811184|Mon Apr 06 22:19:...|NO_QUERY|        ElleCTF|my whole body fee...|\n",
      "|     0|1467811193|Mon Apr 06 22:19:...|NO_QUERY|         Karoli|@nationwideclass ...|\n",
      "|     0|1467811372|Mon Apr 06 22:20:...|NO_QUERY|       joy_wolf|@Kwesidei not the...|\n",
      "|     0|1467811592|Mon Apr 06 22:20:...|NO_QUERY|        mybirch|         Need a hug |\n",
      "|     0|1467811594|Mon Apr 06 22:20:...|NO_QUERY|           coZZ|@LOLTrish hey  lo...|\n",
      "|     0|1467811795|Mon Apr 06 22:20:...|NO_QUERY|2Hood4Hollywood|@Tatiana_K nope t...|\n",
      "|     0|1467812025|Mon Apr 06 22:20:...|NO_QUERY|        mimismo|@twittera que me ...|\n",
      "|     0|1467812416|Mon Apr 06 22:20:...|NO_QUERY| erinx3leannexo|spring break in p...|\n",
      "|     0|1467812579|Mon Apr 06 22:20:...|NO_QUERY|   pardonlauren|I just re-pierced...|\n",
      "|     0|1467812723|Mon Apr 06 22:20:...|NO_QUERY|           TLeC|@caregiving I cou...|\n",
      "|     0|1467812771|Mon Apr 06 22:20:...|NO_QUERY|robrobbierobert|@octolinz16 It it...|\n",
      "|     0|1467812784|Mon Apr 06 22:20:...|NO_QUERY|    bayofwolves|@smarrison i woul...|\n",
      "|     0|1467812799|Mon Apr 06 22:20:...|NO_QUERY|     HairByJess|@iamjazzyfizzle I...|\n",
      "|     0|1467812964|Mon Apr 06 22:20:...|NO_QUERY| lovesongwriter|Hollis' death sce...|\n",
      "|     0|1467813137|Mon Apr 06 22:20:...|NO_QUERY|       armotley|about to file taxes |\n",
      "|     0|1467813579|Mon Apr 06 22:20:...|NO_QUERY|     starkissed|@LettyA ahh ive a...|\n",
      "|     0|1467813782|Mon Apr 06 22:20:...|NO_QUERY|      gi_gi_bee|@FakerPattyPattz ...|\n",
      "+------+----------+--------------------+--------+---------------+--------------------+\n",
      "only showing top 20 rows\n",
      "\n",
      "========================After cleaning========================\n"
     ]
    },
    {
     "name": "stderr",
     "output_type": "stream",
     "text": [
      "/var/folders/wj/77hbr_q13jvfxz5tlm0vsy840000gn/T/ipykernel_6980/3590339814.py:15: MarkupResemblesLocatorWarning: The input looks more like a filename than markup. You may want to open this file and pass the filehandle into Beautiful Soup.\n",
      "                                                                                \r"
     ]
    },
    {
     "name": "stdout",
     "output_type": "stream",
     "text": [
      "+--------------------+------+\n",
      "|                text|target|\n",
      "+--------------------+------+\n",
      "|awww that bummer ...|     0|\n",
      "|is upset that he ...|     0|\n",
      "|dived many times ...|     0|\n",
      "|my whole body fee...|     0|\n",
      "|no it not behavin...|     0|\n",
      "|  not the whole crew|     0|\n",
      "|            need hug|     0|\n",
      "|hey long time no ...|     0|\n",
      "|nope they did not...|     0|\n",
      "|        que me muera|     0|\n",
      "|spring break in p...|     0|\n",
      "|just re pierced m...|     0|\n",
      "|could not bear to...|     0|\n",
      "|it it counts idk ...|     0|\n",
      "|would ve been the...|     0|\n",
      "|wish got to watch...|     0|\n",
      "|hollis death scen...|     0|\n",
      "| about to file taxes|     0|\n",
      "|ahh ive always wa...|     0|\n",
      "|oh dear were you ...|     0|\n",
      "+--------------------+------+\n",
      "only showing top 20 rows\n",
      "\n"
     ]
    },
    {
     "name": "stderr",
     "output_type": "stream",
     "text": [
      "/var/folders/wj/77hbr_q13jvfxz5tlm0vsy840000gn/T/ipykernel_6980/3590339814.py:15: MarkupResemblesLocatorWarning: The input looks more like a filename than markup. You may want to open this file and pass the filehandle into Beautiful Soup.\n",
      "/var/folders/wj/77hbr_q13jvfxz5tlm0vsy840000gn/T/ipykernel_6980/3590339814.py:15: MarkupResemblesLocatorWarning: The input looks more like a filename than markup. You may want to open this file and pass the filehandle into Beautiful Soup.\n",
      "/var/folders/wj/77hbr_q13jvfxz5tlm0vsy840000gn/T/ipykernel_6980/3590339814.py:15: MarkupResemblesLocatorWarning: The input looks more like a filename than markup. You may want to open this file and pass the filehandle into Beautiful Soup.\n",
      "/var/folders/wj/77hbr_q13jvfxz5tlm0vsy840000gn/T/ipykernel_6980/3590339814.py:15: MarkupResemblesLocatorWarning: The input looks more like a filename than markup. You may want to open this file and pass the filehandle into Beautiful Soup.\n",
      "/var/folders/wj/77hbr_q13jvfxz5tlm0vsy840000gn/T/ipykernel_6980/3590339814.py:15: MarkupResemblesLocatorWarning: The input looks more like a filename than markup. You may want to open this file and pass the filehandle into Beautiful Soup.\n",
      "/var/folders/wj/77hbr_q13jvfxz5tlm0vsy840000gn/T/ipykernel_6980/3590339814.py:15: MarkupResemblesLocatorWarning: The input looks more like a filename than markup. You may want to open this file and pass the filehandle into Beautiful Soup.\n",
      "/var/folders/wj/77hbr_q13jvfxz5tlm0vsy840000gn/T/ipykernel_6980/3590339814.py:15: MarkupResemblesLocatorWarning: The input looks more like a filename than markup. You may want to open this file and pass the filehandle into Beautiful Soup.\n",
      "/var/folders/wj/77hbr_q13jvfxz5tlm0vsy840000gn/T/ipykernel_6980/3590339814.py:15: MarkupResemblesLocatorWarning: The input looks more like a filename than markup. You may want to open this file and pass the filehandle into Beautiful Soup.\n",
      "/var/folders/wj/77hbr_q13jvfxz5tlm0vsy840000gn/T/ipykernel_6980/3590339814.py:15: MarkupResemblesLocatorWarning: The input looks more like a filename than markup. You may want to open this file and pass the filehandle into Beautiful Soup.\n",
      "/var/folders/wj/77hbr_q13jvfxz5tlm0vsy840000gn/T/ipykernel_6980/3590339814.py:15: MarkupResemblesLocatorWarning: The input looks more like a filename than markup. You may want to open this file and pass the filehandle into Beautiful Soup.\n",
      "/var/folders/wj/77hbr_q13jvfxz5tlm0vsy840000gn/T/ipykernel_6980/3590339814.py:15: MarkupResemblesLocatorWarning: The input looks more like a filename than markup. You may want to open this file and pass the filehandle into Beautiful Soup.\n",
      "/var/folders/wj/77hbr_q13jvfxz5tlm0vsy840000gn/T/ipykernel_6980/3590339814.py:15: MarkupResemblesLocatorWarning: The input looks more like a filename than markup. You may want to open this file and pass the filehandle into Beautiful Soup.\n",
      "/var/folders/wj/77hbr_q13jvfxz5tlm0vsy840000gn/T/ipykernel_6980/3590339814.py:15: MarkupResemblesLocatorWarning: The input looks more like a filename than markup. You may want to open this file and pass the filehandle into Beautiful Soup.\n",
      "/var/folders/wj/77hbr_q13jvfxz5tlm0vsy840000gn/T/ipykernel_6980/3590339814.py:15: MarkupResemblesLocatorWarning: The input looks more like a filename than markup. You may want to open this file and pass the filehandle into Beautiful Soup.\n",
      "/var/folders/wj/77hbr_q13jvfxz5tlm0vsy840000gn/T/ipykernel_6980/3590339814.py:15: MarkupResemblesLocatorWarning: The input looks more like a filename than markup. You may want to open this file and pass the filehandle into Beautiful Soup.\n",
      "/var/folders/wj/77hbr_q13jvfxz5tlm0vsy840000gn/T/ipykernel_6980/3590339814.py:15: MarkupResemblesLocatorWarning: The input looks more like a filename than markup. You may want to open this file and pass the filehandle into Beautiful Soup.\n",
      "                                                                                \r"
     ]
    },
    {
     "name": "stdout",
     "output_type": "stream",
     "text": [
      "Cleaning time: 0:00:00.000028\n"
     ]
    }
   ],
   "source": [
    "schema = StructType([\n",
    "    StructField(\"target\", IntegerType(), False),\n",
    "    StructField(\"id\", IntegerType(), False),\n",
    "    StructField(\"date\", StringType(), True),\n",
    "    StructField(\"query\", StringType(), True),\n",
    "    StructField(\"user\", StringType(), True),\n",
    "    StructField(\"text\", StringType(), True)\n",
    "])\n",
    "\n",
    "# Load data with the defined schema\n",
    "df = spark.read.csv(\"training.1600000.processed.noemoticon.csv\", header=None, schema=schema, encoding='ISO-8859-1')\n",
    "\n",
    "print(\"========================Before cleaning========================\")\n",
    "\n",
    "df.show()\n",
    "\n",
    "# Apply the cleaning function to the \"text\" column\n",
    "clean_text_udf = udf(clean_text, StringType())\n",
    "df = df.withColumn(\"text\",clean_text_udf(df[\"text\"]))\n",
    "\n",
    "# Map sentiment (0 to 0 and 4 to 1)\n",
    "df = df.withColumn(\"target\", when(df[\"target\"] == 0, 0).otherwise(1))\n",
    "\n",
    "# Select the relevant columns (index, sentiment, and cleaned text)\n",
    "df = df.select(\"text\", \"target\")\n",
    "\n",
    "print(\"========================After cleaning========================\")\n",
    "\n",
    "df.show()\n",
    "\n",
    "# Convert the Spark DataFrame to a pandas DataFrame\n",
    "df_pandas = df.toPandas()\n",
    "\n",
    "# Save the pandas DataFrame to a CSV file\n",
    "df_pandas.to_csv(\"clean_tweet.csv\", index=True, encoding='utf-8')\n",
    "\n",
    "st = datetime.utcnow()\n",
    "print('Cleaning time:', datetime.utcnow() - st)"
   ]
  },
  {
   "cell_type": "markdown",
   "id": "41da3b70-5a0f-456f-bf8d-0f60a0526e2b",
   "metadata": {},
   "source": [
    "## Load Cleaned CSV"
   ]
  },
  {
   "cell_type": "code",
   "execution_count": 11,
   "id": "9659109c-deca-4595-a79c-68a5ce98fd2b",
   "metadata": {},
   "outputs": [
    {
     "name": "stdout",
     "output_type": "stream",
     "text": [
      "Number of rows in the DataFrame: 1596041\n"
     ]
    }
   ],
   "source": [
    "\n",
    "path = \"clean_tweet.csv\"\n",
    "schema = StructType([\n",
    "    StructField(\"_\", StringType(), True),  # Skip the first column\n",
    "    StructField(\"text\", StringType(), True),\n",
    "    StructField(\"target\", IntegerType(), True)\n",
    "])\n",
    "df = spark.read.csv(path, inferSchema=True, header=False, schema=schema).na.drop()\n",
    "num_columns = len(df.columns)\n",
    "\n",
    "print(f\"Number of rows in the DataFrame: {df.count()}\")\n",
    "\n",
    "df = df.select(\"text\", \"target\")\n"
   ]
  },
  {
   "cell_type": "markdown",
   "id": "a98d47d3-b801-47ee-af75-c1b3960a0ae0",
   "metadata": {},
   "source": [
    "## Training Logical Regression"
   ]
  },
  {
   "cell_type": "code",
   "execution_count": 6,
   "id": "49711233-c4ce-42a1-8043-74cc597f589c",
   "metadata": {},
   "outputs": [
    {
     "name": "stderr",
     "output_type": "stream",
     "text": [
      "                                                                                \r"
     ]
    },
    {
     "name": "stdout",
     "output_type": "stream",
     "text": [
      "Training time: 0:01:29.802872\n"
     ]
    },
    {
     "name": "stderr",
     "output_type": "stream",
     "text": [
      "                                                                                \r"
     ]
    },
    {
     "name": "stdout",
     "output_type": "stream",
     "text": [
      "ROC AUC: 0.8864623847221752\n",
      "Accuracy: 0.812026288542087\n",
      "Precision: 0.8129704753283044\n",
      "Recall: 0.812026288542087\n"
     ]
    }
   ],
   "source": [
    "\n",
    "(train_set, test_set) = df.randomSplit([0.80, 0.20], seed=2000)\n",
    "\n",
    "# Define a function to buildthe pipeline with trigrams\n",
    "def build_trigrams(inputCol=[\"text\", \"target\"], n=3):\n",
    "    tokenizer = [Tokenizer(inputCol=\"text\", outputCol=\"words\")]\n",
    "\n",
    "    ngrams = [\n",
    "        NGram(n=i, inputCol=\"words\", outputCol=\"{0}_grams\".format(i))\n",
    "        for i in range(1, n + 1)\n",
    "    ]\n",
    "\n",
    "    cv = [\n",
    "        CountVectorizer(vocabSize=2**14, inputCol=\"{0}_grams\".format(i),\n",
    "            outputCol=\"{0}_tf\".format(i))\n",
    "        for i in range(1, n + 1)\n",
    "    ]\n",
    "\n",
    "    idf = [IDF(inputCol=\"{0}_tf\".format(i), outputCol=\"{0}_tfidf\".format(i), minDocFreq=5) for i in range(1, n + 1)]\n",
    "\n",
    "    stopword_remover = [StopWordsRemover(inputCol=\"words\", outputCol=\"filtered\")]\n",
    "\n",
    "    assembler = [VectorAssembler(\n",
    "        inputCols=[\"{0}_tfidf\".format(i) for i in range(1, n + 1)],\n",
    "        outputCol=\"rawFeatures\"\n",
    "    )]\n",
    "\n",
    "    label_stringIdx = [StringIndexer(inputCol=\"target\", outputCol=\"label\")]\n",
    "\n",
    "    selector = [ChiSqSelector(numTopFeatures=2**14, featuresCol='rawFeatures', outputCol=\"features\")]\n",
    "\n",
    "    lr = [LogisticRegression(regParam=0.005)]\n",
    "\n",
    "    return Pipeline(stages=tokenizer + stopword_remover + ngrams + cv + idf + assembler + label_stringIdx + selector + lr)\n",
    "\n",
    "\n",
    "st = datetime.utcnow()\n",
    "\n",
    "pipelineFit = build_trigrams().fit(train_set)\n",
    "print('Training time:', datetime.utcnow() - st)\n",
    "\n",
    "current_directory = os.getcwd()\n",
    "\n",
    "model_path = os.path.join(current_directory, \"lr_model\")  \n",
    "\n",
    "pipelineFit.write().overwrite().save(model_path)\n",
    "\n",
    "evaluator = MulticlassClassificationEvaluator(labelCol=\"label\", predictionCol=\"prediction\", metricName=\"accuracy\")\n",
    "predictions = pipelineFit.transform(test_set)\n",
    "accuracy = evaluator.evaluate(predictions, {evaluator.metricName: \"accuracy\"})\n",
    "precision = evaluator.evaluate(predictions, {evaluator.metricName: \"weightedPrecision\"})\n",
    "recall = evaluator.evaluate(predictions, {evaluator.metricName: \"weightedRecall\"})\n",
    "\n",
    "evaluator = BinaryClassificationEvaluator(rawPredictionCol=\"rawPrediction\", labelCol=\"label\")\n",
    "roc_auc = evaluator.evaluate(predictions, {evaluator.metricName: \"areaUnderROC\"})\n",
    "\n",
    "print(\"ROC AUC:\", roc_auc)\n",
    "print(\"Accuracy:\", accuracy)\n",
    "print(\"Precision:\", precision)\n",
    "print(\"Recall:\", recall)"
   ]
  },
  {
   "cell_type": "markdown",
   "id": "f5ebd68c-2a44-4468-84d9-840d32afabfa",
   "metadata": {},
   "source": [
    "## Training Naive Bayes"
   ]
  },
  {
   "cell_type": "code",
   "execution_count": 7,
   "id": "fc4016d7-0df4-4414-8a6a-cfb6dc018f7a",
   "metadata": {},
   "outputs": [
    {
     "name": "stderr",
     "output_type": "stream",
     "text": [
      "                                                                                \r"
     ]
    },
    {
     "name": "stdout",
     "output_type": "stream",
     "text": [
      "Training time: 0:00:55.977047\n"
     ]
    },
    {
     "name": "stderr",
     "output_type": "stream",
     "text": [
      "                                                                                \r"
     ]
    },
    {
     "name": "stdout",
     "output_type": "stream",
     "text": [
      "ROC AUC: 0.597685067232381\n",
      "Accuracy: 0.7885405229555529\n",
      "Precision: 0.7890028201085483\n",
      "Recall: 0.7885405229555528\n"
     ]
    }
   ],
   "source": [
    "\n",
    "(train_set, test_set) = df.randomSplit([0.80, 0.20], seed=2000)\n",
    "\n",
    "def build_trigrams(inputCol=[\"text\", \"target\"], n=3):\n",
    "    tokenizer = [Tokenizer(inputCol=\"text\", outputCol=\"words\")]\n",
    "\n",
    "    ngrams = [\n",
    "        NGram(n=i, inputCol=\"words\", outputCol=\"{0}_grams\".format(i))\n",
    "        for i in range(1, n + 1)\n",
    "    ]\n",
    "\n",
    "    cv = [\n",
    "        CountVectorizer(vocabSize=2**14, inputCol=\"{0}_grams\".format(i),\n",
    "            outputCol=\"{0}_tf\".format(i))\n",
    "        for i in range(1, n + 1)\n",
    "    ]\n",
    "\n",
    "    idf = [IDF(inputCol=\"{0}_tf\".format(i), outputCol=\"{0}_tfidf\".format(i), minDocFreq=5) for i in range(1, n + 1)]\n",
    "\n",
    "    stopword_remover = [StopWordsRemover(inputCol=\"words\", outputCol=\"filtered\")]\n",
    "\n",
    "    assembler = [VectorAssembler(\n",
    "        inputCols=[\"{0}_tfidf\".format(i) for i in range(1, n + 1)],\n",
    "        outputCol=\"rawFeatures\"\n",
    "    )]\n",
    "\n",
    "    label_stringIdx = [StringIndexer(inputCol=\"target\", outputCol=\"label\")]\n",
    "\n",
    "    selector = [ChiSqSelector(numTopFeatures=2**14, featuresCol='rawFeatures', outputCol=\"features\")]\n",
    "\n",
    "    nb = [NaiveBayes(modelType=\"multinomial\")]\n",
    "\n",
    "    return Pipeline(stages=tokenizer + stopword_remover + ngrams + cv + idf + assembler + label_stringIdx + selector + nb)\n",
    "\n",
    "\n",
    "st = datetime.utcnow()\n",
    "\n",
    "pipelineFit = build_trigrams().fit(train_set)\n",
    "print('Training time:', datetime.utcnow() - st)\n",
    "\n",
    "current_directory = os.getcwd()\n",
    "\n",
    "model_path = os.path.join(current_directory, \"nb_model\") \n",
    "pipelineFit.write().overwrite().save(model_path)\n",
    "\n",
    "\n",
    "evaluator = MulticlassClassificationEvaluator(labelCol=\"label\", predictionCol=\"prediction\", metricName=\"accuracy\")\n",
    "predictions = pipelineFit.transform(test_set)\n",
    "accuracy = evaluator.evaluate(predictions, {evaluator.metricName: \"accuracy\"})\n",
    "precision = evaluator.evaluate(predictions, {evaluator.metricName: \"weightedPrecision\"})\n",
    "recall = evaluator.evaluate(predictions, {evaluator.metricName: \"weightedRecall\"})\n",
    "\n",
    "evaluator = BinaryClassificationEvaluator(rawPredictionCol=\"rawPrediction\", labelCol=\"label\")\n",
    "roc_auc = evaluator.evaluate(predictions, {evaluator.metricName: \"areaUnderROC\"})\n",
    "\n",
    "print(\"ROC AUC:\", roc_auc)\n",
    "print(\"Accuracy:\", accuracy)\n",
    "print(\"Precision:\", precision)\n",
    "print(\"Recall:\", recall)"
   ]
  },
  {
   "cell_type": "markdown",
   "id": "a87ca1e7-c795-484c-b606-658651d2bb80",
   "metadata": {},
   "source": [
    "## Real time prediction on Reddit"
   ]
  },
  {
   "cell_type": "code",
   "execution_count": 12,
   "id": "9f5c68eb-2d93-4f24-b0ea-2dfc17304468",
   "metadata": {},
   "outputs": [
    {
     "name": "stderr",
     "output_type": "stream",
     "text": [
      "No artists with labels found to put in legend.  Note that artists whose label start with an underscore are ignored when legend() is called with no argument.\n"
     ]
    },
    {
     "data": {
      "image/png": "[encoded data removed]",
      "text/plain": [
       "<Figure size 640x480 with 1 Axes>"
      ]
     },
     "metadata": {},
     "output_type": "display_data"
    },
    {
     "data": {
      "image/png": "[encoded data removed]",
      "text/plain": [
       "<Figure size 1200x600 with 1 Axes>"
      ]
     },
     "metadata": {},
     "output_type": "display_data"
    },
    {
     "name": "stderr",
     "output_type": "stream",
     "text": [
      "No artists with labels found to put in legend.  Note that artists whose label start with an underscore are ignored when legend() is called with no argument.\n"
     ]
    },
    {
     "data": {
      "image/png": "[encoded data removed]",
      "text/plain": [
       "<Figure size 640x480 with 1 Axes>"
      ]
     },
     "metadata": {},
     "output_type": "display_data"
    },
    {
     "data": {
      "image/png": "[encoded data removed]",
      "text/plain": [
       "<Figure size 1200x600 with 1 Axes>"
      ]
     },
     "metadata": {},
     "output_type": "display_data"
    },
    {
     "name": "stdout",
     "output_type": "stream",
     "text": [
      "Sentiment analysis completed for Reddit data\n"
     ]
    }
   ],
   "source": [
    "reddit = praw.Reddit(\n",
    "    client_id='mJMczWy81dMME1r9v9OBiQ',\n",
    "    client_secret='tdsaBJ8OiNORXPvbw1jwFkNCaQY3GQ',\n",
    "    user_agent='redit api2',\n",
    "    username='Public-Quantity3513',\n",
    "    password='siCsur-2qujcy-tehmim'\n",
    ")\n",
    "\n",
    "subreddit_name = 'DataScience'\n",
    "\n",
    "clean_text_udf = udf(clean_text, StringType())\n",
    "nb_model_path = \"nb_model\"\n",
    "lr_model_path = \"lr_model\"\n",
    "nb_pipeline_model = PipelineModel.load(nb_model_path)\n",
    "lr_pipeline_model = PipelineModel.load(lr_model_path)\n",
    "\n",
    "def process_post(post):\n",
    "    post_comment_bodies = []\n",
    "    for comment in post.comments.list():\n",
    "        if isinstance(comment, praw.models.Comment) and not comment.body == '[deleted]':\n",
    "            cleaned_text = clean_text(comment.body)\n",
    "            post_comment_bodies.append(cleaned_text)\n",
    "    return post_comment_bodies\n",
    "\n",
    "def predict_sentiment(comment_bodies, model, model_name):\n",
    "    schema = StructType([StructField(\"text\", StringType(), True)])\n",
    "    df = spark.createDataFrame([(body,) for body in comment_bodies], schema=schema)\n",
    "    predictions = model.transform(df)\n",
    "    \n",
    "    predicted_labels = predictions.select('prediction').collect()\n",
    "    \n",
    "    predicted_positive_count = sum(1 for label in predicted_labels if label[0] == 1)\n",
    "    predicted_negative_count = sum(1 for label in predicted_labels if label[0] == 0)\n",
    "\n",
    "    predicted_sentiments = [f'Predicted Positive ({model_name})', f'Predicted Negative ({model_name})']\n",
    "    predicted_counts = [predicted_positive_count, predicted_negative_count]\n",
    "\n",
    "    plt.bar(predicted_sentiments, predicted_counts, color=['green', 'red'], label=model_name.lower())\n",
    "\n",
    "def plot_sentiment_distribution():\n",
    "    plt.xlabel('Sentiment')\n",
    "    plt.ylabel('Count')\n",
    "    plt.title('Sentiment Prediction Distribution On Reddit Live Data')\n",
    "    plt.legend()\n",
    "    plt.show()\n",
    "    plt.close()\n",
    "\n",
    "try:\n",
    "    subreddit_name = 'DataScience'\n",
    "    hot_posts = reddit.subreddit(subreddit_name).hot(limit=500)\n",
    "    all_comment_bodies = []\n",
    "\n",
    "    for post in hot_posts:\n",
    "        comment_bodies = process_post(post)\n",
    "        all_comment_bodies.extend(comment_bodies)\n",
    "\n",
    "    # Predict sentiment for Logistic Regression model\n",
    "    predict_sentiment(all_comment_bodies, lr_pipeline_model, 'LR')\n",
    "\n",
    "    # Plot sentiment distribution for Logistic Regression model\n",
    "    plot_sentiment_distribution()\n",
    "    \n",
    "    # Predict sentiment for Naive Bayes model\n",
    "    predict_sentiment(all_comment_bodies, nb_pipeline_model, 'NB')\n",
    "\n",
    "    # Plot sentiment distribution for Naive Bayes model\n",
    "    plot_sentiment_distribution()\n",
    "\n",
    "\n",
    "    print(\"Sentiment analysis completed for Reddit data\")\n",
    "\n",
    "except praw.exceptions.APIException as e:\n",
    "    print(f\"Reddit API Exception: {e}\")\n",
    "\n",
    "except Exception as e:\n",
    "    print(f\"An unexpected error occurred: {e}\")\n",
    "\n",
    "finally:\n",
    "    spark.stop()"
   ]
  },
  {
   "cell_type": "code",
   "execution_count": null,
   "id": "bde0ca0e-9b98-4686-a234-a33d0343e991",
   "metadata": {},
   "outputs": [],
   "source": []
  }
 ],
 "metadata": {
  "kernelspec": {
   "display_name": "Python 3 (ipykernel)",
   "language": "python",
   "name": "python3"
  },
  "language_info": {
   "codemirror_mode": {
    "name": "ipython",
    "version": 3
   },
   "file_extension": ".py",
   "mimetype": "text/x-python",
   "name": "python",
   "nbconvert_exporter": "python",
   "pygments_lexer": "ipython3",
   "version": "3.9.4"
  }
 },
 "nbformat": 4,
 "nbformat_minor": 5
}
